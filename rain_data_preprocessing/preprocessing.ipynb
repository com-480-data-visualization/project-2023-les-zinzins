{
 "cells": [
  {
   "attachments": {},
   "cell_type": "markdown",
   "metadata": {},
   "source": [
    "# Notebook to preprocess the meteo data.\n",
    "Source: [Open Meteo](https://open-meteo.com/)\n",
    "\n",
    "We preprocess the data since it won't be changed and we do not want to trigger the API unnecessarily."
   ]
  },
  {
   "cell_type": "code",
   "execution_count": 1,
   "metadata": {},
   "outputs": [],
   "source": [
    "import pandas as pd\n",
    "import requests\n",
    "import json"
   ]
  },
  {
   "attachments": {},
   "cell_type": "markdown",
   "metadata": {},
   "source": [
    "City coordinates we are interested in. (longitude, latitude)"
   ]
  },
  {
   "cell_type": "code",
   "execution_count": 2,
   "metadata": {},
   "outputs": [],
   "source": [
    "city_coords = {\n",
    "    \"london\": [-0.118092, 51.509865],\n",
    "    \"berlin\": [13.404954, 52.520008],\n",
    "    \"amsterdam\": [4.899431, 52.379189],\n",
    "    \"paris\": [2.349014, 48.864716],\n",
    "    \"rome\": [12.496366, 41.902782],\n",
    "    \"barcelona\": [2.154007, 41.390205],\n",
    "    \"budapest\": [19.040236, 47.497913],\n",
    "    \"athens\": [23.727539, 37.983810],\n",
    "    \"lisbon\": [-9.142685, 38.736946],\n",
    "    \"vienna\": [16.363449, 48.210033],\n",
    "}"
   ]
  },
  {
   "attachments": {},
   "cell_type": "markdown",
   "metadata": {},
   "source": [
    "## 1. Fetch daily precipitation hours for the whole year of 2022"
   ]
  },
  {
   "cell_type": "code",
   "execution_count": 3,
   "metadata": {},
   "outputs": [],
   "source": [
    "base_url = \"https://archive-api.open-meteo.com/v1/archive\"\n",
    "\n",
    "cities = []\n",
    "days = []\n",
    "rain_hours = []\n",
    "\n",
    "for city in city_coords:\n",
    "    params = {\n",
    "        \"latitude\": city_coords[city][1],\n",
    "        \"longitude\": city_coords[city][0],\n",
    "        \"start_date\": \"2022-01-01\",\n",
    "        \"end_date\": \"2022-12-31\",\n",
    "        \"daily\": \"precipitation_hours\",\n",
    "        \"timezone\": \"Europe/Berlin\",\n",
    "    }\n",
    "\n",
    "    response = requests.get(base_url, params=params)\n",
    "    raw_data = response.json()\n",
    "\n",
    "    cities.append(city)\n",
    "    days.append(raw_data['daily']['time'])\n",
    "    rain_hours.append(raw_data['daily']['precipitation_hours'])\n",
    "\n",
    "df_all = pd.DataFrame({\n",
    "    'city': cities,\n",
    "    'days': days,\n",
    "    'rain_hours': rain_hours,\n",
    "})"
   ]
  },
  {
   "cell_type": "code",
   "execution_count": 4,
   "metadata": {},
   "outputs": [],
   "source": [
    "df_all.to_csv(\"data_output/cities_rain_data_2022.csv\", index=False)"
   ]
  },
  {
   "attachments": {},
   "cell_type": "markdown",
   "metadata": {},
   "source": [
    "## 2. Fetch average temperature for the whole year"
   ]
  },
  {
   "cell_type": "code",
   "execution_count": 5,
   "metadata": {},
   "outputs": [],
   "source": [
    "base_url = \"https://archive-api.open-meteo.com/v1/archive\"\n",
    "\n",
    "cities = []\n",
    "days = []\n",
    "mean_temps = []\n",
    "\n",
    "for city in city_coords:\n",
    "    params = {\n",
    "        \"latitude\": city_coords[city][1],\n",
    "        \"longitude\": city_coords[city][0],\n",
    "        \"start_date\": \"2022-01-01\",\n",
    "        \"end_date\": \"2022-12-31\",\n",
    "        \"daily\": \"temperature_2m_mean\",\n",
    "        \"timezone\": \"Europe/Berlin\",\n",
    "    }\n",
    "\n",
    "    response = requests.get(base_url, params=params)\n",
    "    raw_data = response.json()\n",
    "\n",
    "    cities.append(city)\n",
    "    days.append(raw_data['daily']['time'])\n",
    "    mean_temps.append(raw_data['daily']['temperature_2m_mean'])\n",
    "\n",
    "df_all = pd.DataFrame({\n",
    "    'city': cities,\n",
    "    'days': days,\n",
    "    'mean_temps': mean_temps,\n",
    "})"
   ]
  },
  {
   "cell_type": "code",
   "execution_count": 6,
   "metadata": {},
   "outputs": [],
   "source": [
    "df_all.to_csv(\"data_output/cities_mean_temps_2022.csv\", index=False)"
   ]
  }
 ],
 "metadata": {
  "kernelspec": {
   "display_name": "Python 3",
   "language": "python",
   "name": "python3"
  },
  "language_info": {
   "codemirror_mode": {
    "name": "ipython",
    "version": 3
   },
   "file_extension": ".py",
   "mimetype": "text/x-python",
   "name": "python",
   "nbconvert_exporter": "python",
   "pygments_lexer": "ipython3",
   "version": "3.10.1"
  },
  "orig_nbformat": 4
 },
 "nbformat": 4,
 "nbformat_minor": 2
}
