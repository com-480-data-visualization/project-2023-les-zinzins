{
 "cells": [
  {
   "cell_type": "code",
   "execution_count": 20,
   "metadata": {},
   "outputs": [],
   "source": [
    "import pandas as pd\n",
    "import requests\n",
    "import json"
   ]
  },
  {
   "cell_type": "code",
   "execution_count": 21,
   "metadata": {},
   "outputs": [],
   "source": [
    "city_coords = {\n",
    "    \"london\": [-0.118092, 51.509865],\n",
    "    \"berlin\": [13.404954, 52.520008],\n",
    "    \"amsterdam\": [4.899431, 52.379189],\n",
    "    \"paris\": [2.349014, 48.864716],\n",
    "    \"rome\": [12.496366, 41.902782],\n",
    "    \"barcelona\": [2.154007, 41.390205],\n",
    "    \"budapest\": [19.040236, 47.497913],\n",
    "    \"athens\": [23.727539, 37.983810],\n",
    "    \"lisbon\": [-9.142685, 38.736946],\n",
    "    \"vienna\": [16.363449, 48.210033],\n",
    "}"
   ]
  },
  {
   "cell_type": "code",
   "execution_count": 22,
   "metadata": {},
   "outputs": [],
   "source": [
    "# example:\n",
    "# https://archive-api.open-meteo.com/v1/archive?latitude=48.85&longitude=2.35&start_date=2022-01-01&end_date=2022-12-31&daily=precipitation_hours&timezone=Europe%2FBerlin\n",
    "\n",
    "\n",
    "base_url = \"https://archive-api.open-meteo.com/v1/archive\"\n",
    "\n",
    "params = {\n",
    "    \"latitude\": 48.85,\n",
    "    \"longitude\": 2.35,\n",
    "    \"start_date\": \"2022-01-01\",\n",
    "    \"end_date\": \"2022-12-31\",\n",
    "    \"daily\":\"precipitation_hours\",\n",
    "    \"timezone\":\"Europe/Berlin\"\n",
    "}\n",
    "\n",
    "response = requests.get(base_url, params=params)\n",
    "raw_data = response.json()"
   ]
  },
  {
   "cell_type": "code",
   "execution_count": 23,
   "metadata": {},
   "outputs": [],
   "source": [
    "base_url = \"https://archive-api.open-meteo.com/v1/archive\"\n",
    "\n",
    "cities = []\n",
    "days = []\n",
    "rain_hours = []\n",
    "\n",
    "for city in city_coords:\n",
    "    params = {\n",
    "        \"latitude\": city_coords[city][1],\n",
    "        \"longitude\": city_coords[city][0],\n",
    "        \"start_date\": \"2022-01-01\",\n",
    "        \"end_date\": \"2022-12-31\",\n",
    "        \"daily\": \"precipitation_hours\",\n",
    "        \"timezone\": \"Europe/Berlin\",\n",
    "    }\n",
    "\n",
    "    response = requests.get(base_url, params=params)\n",
    "    raw_data = response.json()\n",
    "\n",
    "    cities.append(city)\n",
    "    days.append(raw_data['daily']['time'])\n",
    "    rain_hours.append(raw_data['daily']['precipitation_hours'])\n",
    "\n",
    "df_all = pd.DataFrame({\n",
    "    'city': cities,\n",
    "    'days': days,\n",
    "    'rain_hours': rain_hours,\n",
    "})"
   ]
  },
  {
   "cell_type": "code",
   "execution_count": 24,
   "metadata": {},
   "outputs": [
    {
     "data": {
      "text/html": [
       "<div>\n",
       "<style scoped>\n",
       "    .dataframe tbody tr th:only-of-type {\n",
       "        vertical-align: middle;\n",
       "    }\n",
       "\n",
       "    .dataframe tbody tr th {\n",
       "        vertical-align: top;\n",
       "    }\n",
       "\n",
       "    .dataframe thead th {\n",
       "        text-align: right;\n",
       "    }\n",
       "</style>\n",
       "<table border=\"1\" class=\"dataframe\">\n",
       "  <thead>\n",
       "    <tr style=\"text-align: right;\">\n",
       "      <th></th>\n",
       "      <th>city</th>\n",
       "      <th>days</th>\n",
       "      <th>rain_hours</th>\n",
       "    </tr>\n",
       "  </thead>\n",
       "  <tbody>\n",
       "    <tr>\n",
       "      <th>0</th>\n",
       "      <td>london</td>\n",
       "      <td>[2022-01-01, 2022-01-02, 2022-01-03, 2022-01-0...</td>\n",
       "      <td>[1.0, 9.0, 1.0, 9.0, 0.0, 7.0, 1.0, 16.0, 0.0,...</td>\n",
       "    </tr>\n",
       "    <tr>\n",
       "      <th>1</th>\n",
       "      <td>berlin</td>\n",
       "      <td>[2022-01-01, 2022-01-02, 2022-01-03, 2022-01-0...</td>\n",
       "      <td>[6.0, 10.0, 13.0, 12.0, 8.0, 4.0, 4.0, 0.0, 6....</td>\n",
       "    </tr>\n",
       "    <tr>\n",
       "      <th>2</th>\n",
       "      <td>amsterdam</td>\n",
       "      <td>[2022-01-01, 2022-01-02, 2022-01-03, 2022-01-0...</td>\n",
       "      <td>[2.0, 17.0, 4.0, 9.0, 13.0, 3.0, 17.0, 16.0, 1...</td>\n",
       "    </tr>\n",
       "    <tr>\n",
       "      <th>3</th>\n",
       "      <td>paris</td>\n",
       "      <td>[2022-01-01, 2022-01-02, 2022-01-03, 2022-01-0...</td>\n",
       "      <td>[0.0, 2.0, 15.0, 21.0, 1.0, 0.0, 19.0, 15.0, 1...</td>\n",
       "    </tr>\n",
       "    <tr>\n",
       "      <th>4</th>\n",
       "      <td>rome</td>\n",
       "      <td>[2022-01-01, 2022-01-02, 2022-01-03, 2022-01-0...</td>\n",
       "      <td>[0.0, 0.0, 0.0, 2.0, 8.0, 13.0, 0.0, 0.0, 12.0...</td>\n",
       "    </tr>\n",
       "    <tr>\n",
       "      <th>5</th>\n",
       "      <td>barcelona</td>\n",
       "      <td>[2022-01-01, 2022-01-02, 2022-01-03, 2022-01-0...</td>\n",
       "      <td>[0.0, 0.0, 0.0, 0.0, 18.0, 0.0, 0.0, 0.0, 2.0,...</td>\n",
       "    </tr>\n",
       "    <tr>\n",
       "      <th>6</th>\n",
       "      <td>budapest</td>\n",
       "      <td>[2022-01-01, 2022-01-02, 2022-01-03, 2022-01-0...</td>\n",
       "      <td>[1.0, 0.0, 3.0, 0.0, 10.0, 3.0, 0.0, 0.0, 0.0,...</td>\n",
       "    </tr>\n",
       "    <tr>\n",
       "      <th>7</th>\n",
       "      <td>athens</td>\n",
       "      <td>[2022-01-01, 2022-01-02, 2022-01-03, 2022-01-0...</td>\n",
       "      <td>[0.0, 0.0, 0.0, 0.0, 0.0, 0.0, 1.0, 8.0, 15.0,...</td>\n",
       "    </tr>\n",
       "    <tr>\n",
       "      <th>8</th>\n",
       "      <td>lisbon</td>\n",
       "      <td>[2022-01-01, 2022-01-02, 2022-01-03, 2022-01-0...</td>\n",
       "      <td>[0.0, 0.0, 0.0, 9.0, 6.0, 0.0, 0.0, 0.0, 0.0, ...</td>\n",
       "    </tr>\n",
       "    <tr>\n",
       "      <th>9</th>\n",
       "      <td>vienna</td>\n",
       "      <td>[2022-01-01, 2022-01-02, 2022-01-03, 2022-01-0...</td>\n",
       "      <td>[0.0, 0.0, 0.0, 4.0, 12.0, 3.0, 0.0, 0.0, 3.0,...</td>\n",
       "    </tr>\n",
       "  </tbody>\n",
       "</table>\n",
       "</div>"
      ],
      "text/plain": [
       "        city                                               days  \\\n",
       "0     london  [2022-01-01, 2022-01-02, 2022-01-03, 2022-01-0...   \n",
       "1     berlin  [2022-01-01, 2022-01-02, 2022-01-03, 2022-01-0...   \n",
       "2  amsterdam  [2022-01-01, 2022-01-02, 2022-01-03, 2022-01-0...   \n",
       "3      paris  [2022-01-01, 2022-01-02, 2022-01-03, 2022-01-0...   \n",
       "4       rome  [2022-01-01, 2022-01-02, 2022-01-03, 2022-01-0...   \n",
       "5  barcelona  [2022-01-01, 2022-01-02, 2022-01-03, 2022-01-0...   \n",
       "6   budapest  [2022-01-01, 2022-01-02, 2022-01-03, 2022-01-0...   \n",
       "7     athens  [2022-01-01, 2022-01-02, 2022-01-03, 2022-01-0...   \n",
       "8     lisbon  [2022-01-01, 2022-01-02, 2022-01-03, 2022-01-0...   \n",
       "9     vienna  [2022-01-01, 2022-01-02, 2022-01-03, 2022-01-0...   \n",
       "\n",
       "                                          rain_hours  \n",
       "0  [1.0, 9.0, 1.0, 9.0, 0.0, 7.0, 1.0, 16.0, 0.0,...  \n",
       "1  [6.0, 10.0, 13.0, 12.0, 8.0, 4.0, 4.0, 0.0, 6....  \n",
       "2  [2.0, 17.0, 4.0, 9.0, 13.0, 3.0, 17.0, 16.0, 1...  \n",
       "3  [0.0, 2.0, 15.0, 21.0, 1.0, 0.0, 19.0, 15.0, 1...  \n",
       "4  [0.0, 0.0, 0.0, 2.0, 8.0, 13.0, 0.0, 0.0, 12.0...  \n",
       "5  [0.0, 0.0, 0.0, 0.0, 18.0, 0.0, 0.0, 0.0, 2.0,...  \n",
       "6  [1.0, 0.0, 3.0, 0.0, 10.0, 3.0, 0.0, 0.0, 0.0,...  \n",
       "7  [0.0, 0.0, 0.0, 0.0, 0.0, 0.0, 1.0, 8.0, 15.0,...  \n",
       "8  [0.0, 0.0, 0.0, 9.0, 6.0, 0.0, 0.0, 0.0, 0.0, ...  \n",
       "9  [0.0, 0.0, 0.0, 4.0, 12.0, 3.0, 0.0, 0.0, 3.0,...  "
      ]
     },
     "execution_count": 24,
     "metadata": {},
     "output_type": "execute_result"
    }
   ],
   "source": [
    "df_all"
   ]
  },
  {
   "cell_type": "code",
   "execution_count": 29,
   "metadata": {},
   "outputs": [
    {
     "data": {
      "text/plain": [
       "Timestamp('2022-01-01 00:00:00')"
      ]
     },
     "execution_count": 29,
     "metadata": {},
     "output_type": "execute_result"
    }
   ],
   "source": []
  },
  {
   "cell_type": "code",
   "execution_count": 26,
   "metadata": {},
   "outputs": [],
   "source": [
    "df_all.to_csv(\"data_output/cities_rain_data_2022.csv\", index=False)"
   ]
  }
 ],
 "metadata": {
  "kernelspec": {
   "display_name": "Python 3",
   "language": "python",
   "name": "python3"
  },
  "language_info": {
   "codemirror_mode": {
    "name": "ipython",
    "version": 3
   },
   "file_extension": ".py",
   "mimetype": "text/x-python",
   "name": "python",
   "nbconvert_exporter": "python",
   "pygments_lexer": "ipython3",
   "version": "3.10.1"
  },
  "orig_nbformat": 4
 },
 "nbformat": 4,
 "nbformat_minor": 2
}
